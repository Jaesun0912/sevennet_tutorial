{
 "cells": [
  {
   "cell_type": "markdown",
   "metadata": {
    "id": "70dsECuXtOku"
   },
   "source": [
    "<a href=\"https://colab.research.google.com/github/MDIL-SNU/SevenNet/blob/tutorial/tutorial/SevenNet_python_tutorial.ipynb\" target=\"_parent\"><img src=\"https://colab.research.google.com/assets/colab-badge.svg\" alt=\"Open In Colab\"/></a>"
   ]
  },
  {
   "cell_type": "markdown",
   "metadata": {
    "id": "TMbCfqbmHVf0"
   },
   "source": [
    "# SevenNet tutorial: finetuning + python interactive\n",
    "\n",
    "---\n",
    "This notebook is a python interactive tutorial for finetuning SevenNet-0.\\\n",
    "It continues from `SevenNet_python_tutorial.ipynb`, but can be thought as an isolated tutorial also.\\\n",
    "[paper](https://pubs.acs.org/doi/10.1021/acs.jctc.4c00190)\\\n",
    "[code](https://github.com/MDIL-SNU/SevenNet) \\\n",
    "We recommend using a GPU. If you're using Colab, go to:\\\n",
    "[Runtime] -> [Change runtime type] -> [T4 GPU] -> [Save]\n",
    "\n",
    "If you're using Colab, it may crash occasionally. If it does, try starting from the beginning or from the cell where it crashed. If that doesn’t work, go to: \\\n",
    "[Runtime] -> [Disconnect and delete runtime] -> restart!"
   ]
  },
  {
   "cell_type": "markdown",
   "metadata": {
    "id": "f3dxO2smIM2_"
   },
   "source": [
    "## 0. Installation\n",
    "First of all, let's install SevenNet to our computer!"
   ]
  },
  {
   "cell_type": "code",
   "execution_count": 1,
   "metadata": {
    "colab": {
     "base_uri": "https://localhost:8080/"
    },
    "id": "gRaoa25DUwkg",
    "outputId": "90c32351-c897-4227-9d50-4f50de31cfdd"
   },
   "outputs": [
    {
     "name": "stdout",
     "output_type": "stream",
     "text": [
      "Requirement already satisfied: sevenn in /home/parkyutack/SevenNet (0.10.1)\n",
      "Requirement already satisfied: ase in /home/parkyutack/.local/lib/python3.11/site-packages (from sevenn) (3.23.0)\n",
      "Requirement already satisfied: braceexpand in /home/parkyutack/.local/venv11/stuto/lib/python3.11/site-packages (from sevenn) (0.1.7)\n",
      "Requirement already satisfied: pyyaml in /usr/lib/python3/dist-packages (from sevenn) (5.3.1)\n",
      "Requirement already satisfied: e3nn in /home/parkyutack/.local/venv11/stuto/lib/python3.11/site-packages (from sevenn) (0.5.4)\n",
      "Requirement already satisfied: tqdm in /home/parkyutack/.local/lib/python3.11/site-packages (from sevenn) (4.66.5)\n",
      "Requirement already satisfied: scikit-learn in /home/parkyutack/.local/lib/python3.11/site-packages (from sevenn) (1.5.1)\n",
      "Requirement already satisfied: torch_geometric>=2.5.0 in /home/parkyutack/.local/lib/python3.11/site-packages (from sevenn) (2.5.3)\n",
      "Requirement already satisfied: numpy<2.0 in /home/parkyutack/.local/lib/python3.11/site-packages (from sevenn) (1.25.0)\n",
      "Requirement already satisfied: scipy in /home/parkyutack/.local/lib/python3.11/site-packages (from torch_geometric>=2.5.0->sevenn) (1.14.0)\n",
      "Requirement already satisfied: fsspec in /home/parkyutack/.local/lib/python3.11/site-packages (from torch_geometric>=2.5.0->sevenn) (2024.6.1)\n",
      "Requirement already satisfied: jinja2 in /home/parkyutack/.local/lib/python3.11/site-packages (from torch_geometric>=2.5.0->sevenn) (3.1.4)\n",
      "Requirement already satisfied: aiohttp in /home/parkyutack/.local/lib/python3.11/site-packages (from torch_geometric>=2.5.0->sevenn) (3.10.3)\n",
      "Requirement already satisfied: requests in /home/parkyutack/.local/lib/python3.11/site-packages (from torch_geometric>=2.5.0->sevenn) (2.32.3)\n",
      "Requirement already satisfied: pyparsing in /home/parkyutack/.local/lib/python3.11/site-packages (from torch_geometric>=2.5.0->sevenn) (3.1.2)\n",
      "Requirement already satisfied: psutil>=5.8.0 in /home/parkyutack/.local/lib/python3.11/site-packages (from torch_geometric>=2.5.0->sevenn) (6.0.0)\n",
      "Requirement already satisfied: matplotlib>=3.3.4 in /home/parkyutack/.local/lib/python3.11/site-packages (from ase->sevenn) (3.9.2)\n",
      "Requirement already satisfied: sympy in /home/parkyutack/.local/lib/python3.11/site-packages (from e3nn->sevenn) (1.13.2)\n",
      "Requirement already satisfied: torch>=1.8.0 in /home/parkyutack/.local/lib/python3.11/site-packages (from e3nn->sevenn) (2.4.0)\n",
      "Requirement already satisfied: opt-einsum-fx>=0.1.4 in /home/parkyutack/.local/venv11/stuto/lib/python3.11/site-packages (from e3nn->sevenn) (0.1.4)\n",
      "Requirement already satisfied: joblib>=1.2.0 in /home/parkyutack/.local/lib/python3.11/site-packages (from scikit-learn->sevenn) (1.4.2)\n",
      "Requirement already satisfied: threadpoolctl>=3.1.0 in /home/parkyutack/.local/lib/python3.11/site-packages (from scikit-learn->sevenn) (3.5.0)\n",
      "Requirement already satisfied: contourpy>=1.0.1 in /home/parkyutack/.local/lib/python3.11/site-packages (from matplotlib>=3.3.4->ase->sevenn) (1.2.1)\n",
      "Requirement already satisfied: cycler>=0.10 in /home/parkyutack/.local/lib/python3.11/site-packages (from matplotlib>=3.3.4->ase->sevenn) (0.12.1)\n",
      "Requirement already satisfied: fonttools>=4.22.0 in /home/parkyutack/.local/lib/python3.11/site-packages (from matplotlib>=3.3.4->ase->sevenn) (4.53.1)\n",
      "Requirement already satisfied: kiwisolver>=1.3.1 in /home/parkyutack/.local/lib/python3.11/site-packages (from matplotlib>=3.3.4->ase->sevenn) (1.4.5)\n",
      "Requirement already satisfied: packaging>=20.0 in /home/parkyutack/.local/lib/python3.11/site-packages (from matplotlib>=3.3.4->ase->sevenn) (24.1)\n",
      "Requirement already satisfied: pillow>=8 in /home/parkyutack/.local/lib/python3.11/site-packages (from matplotlib>=3.3.4->ase->sevenn) (10.4.0)\n",
      "Requirement already satisfied: python-dateutil>=2.7 in /home/parkyutack/.local/lib/python3.11/site-packages (from matplotlib>=3.3.4->ase->sevenn) (2.9.0.post0)\n",
      "Requirement already satisfied: opt-einsum in /home/parkyutack/.local/venv11/stuto/lib/python3.11/site-packages (from opt-einsum-fx>=0.1.4->e3nn->sevenn) (3.4.0)\n",
      "Requirement already satisfied: filelock in /home/parkyutack/.local/lib/python3.11/site-packages (from torch>=1.8.0->e3nn->sevenn) (3.15.4)\n",
      "Requirement already satisfied: typing-extensions>=4.8.0 in /home/parkyutack/.local/lib/python3.11/site-packages (from torch>=1.8.0->e3nn->sevenn) (4.12.2)\n",
      "Requirement already satisfied: networkx in /home/parkyutack/.local/lib/python3.11/site-packages (from torch>=1.8.0->e3nn->sevenn) (3.3)\n",
      "Requirement already satisfied: nvidia-cuda-nvrtc-cu12==12.1.105 in /home/parkyutack/.local/lib/python3.11/site-packages (from torch>=1.8.0->e3nn->sevenn) (12.1.105)\n",
      "Requirement already satisfied: nvidia-cuda-runtime-cu12==12.1.105 in /home/parkyutack/.local/lib/python3.11/site-packages (from torch>=1.8.0->e3nn->sevenn) (12.1.105)\n",
      "Requirement already satisfied: nvidia-cuda-cupti-cu12==12.1.105 in /home/parkyutack/.local/lib/python3.11/site-packages (from torch>=1.8.0->e3nn->sevenn) (12.1.105)\n",
      "Requirement already satisfied: nvidia-cudnn-cu12==9.1.0.70 in /home/parkyutack/.local/lib/python3.11/site-packages (from torch>=1.8.0->e3nn->sevenn) (9.1.0.70)\n",
      "Requirement already satisfied: nvidia-cublas-cu12==12.1.3.1 in /home/parkyutack/.local/lib/python3.11/site-packages (from torch>=1.8.0->e3nn->sevenn) (12.1.3.1)\n",
      "Requirement already satisfied: nvidia-cufft-cu12==11.0.2.54 in /home/parkyutack/.local/lib/python3.11/site-packages (from torch>=1.8.0->e3nn->sevenn) (11.0.2.54)\n",
      "Requirement already satisfied: nvidia-curand-cu12==10.3.2.106 in /home/parkyutack/.local/lib/python3.11/site-packages (from torch>=1.8.0->e3nn->sevenn) (10.3.2.106)\n",
      "Requirement already satisfied: nvidia-cusolver-cu12==11.4.5.107 in /home/parkyutack/.local/lib/python3.11/site-packages (from torch>=1.8.0->e3nn->sevenn) (11.4.5.107)\n",
      "Requirement already satisfied: nvidia-cusparse-cu12==12.1.0.106 in /home/parkyutack/.local/lib/python3.11/site-packages (from torch>=1.8.0->e3nn->sevenn) (12.1.0.106)\n",
      "Requirement already satisfied: nvidia-nccl-cu12==2.20.5 in /home/parkyutack/.local/lib/python3.11/site-packages (from torch>=1.8.0->e3nn->sevenn) (2.20.5)\n",
      "Requirement already satisfied: nvidia-nvtx-cu12==12.1.105 in /home/parkyutack/.local/lib/python3.11/site-packages (from torch>=1.8.0->e3nn->sevenn) (12.1.105)\n",
      "Requirement already satisfied: triton==3.0.0 in /home/parkyutack/.local/lib/python3.11/site-packages (from torch>=1.8.0->e3nn->sevenn) (3.0.0)\n",
      "Requirement already satisfied: nvidia-nvjitlink-cu12 in /home/parkyutack/.local/lib/python3.11/site-packages (from nvidia-cusolver-cu12==11.4.5.107->torch>=1.8.0->e3nn->sevenn) (12.6.20)\n",
      "Requirement already satisfied: aiohappyeyeballs>=2.3.0 in /home/parkyutack/.local/lib/python3.11/site-packages (from aiohttp->torch_geometric>=2.5.0->sevenn) (2.3.5)\n",
      "Requirement already satisfied: aiosignal>=1.1.2 in /home/parkyutack/.local/lib/python3.11/site-packages (from aiohttp->torch_geometric>=2.5.0->sevenn) (1.3.1)\n",
      "Requirement already satisfied: attrs>=17.3.0 in /home/parkyutack/.local/venv11/stuto/lib/python3.11/site-packages (from aiohttp->torch_geometric>=2.5.0->sevenn) (24.2.0)\n",
      "Requirement already satisfied: frozenlist>=1.1.1 in /home/parkyutack/.local/lib/python3.11/site-packages (from aiohttp->torch_geometric>=2.5.0->sevenn) (1.4.1)\n",
      "Requirement already satisfied: multidict<7.0,>=4.5 in /home/parkyutack/.local/lib/python3.11/site-packages (from aiohttp->torch_geometric>=2.5.0->sevenn) (6.0.5)\n",
      "Requirement already satisfied: yarl<2.0,>=1.0 in /home/parkyutack/.local/lib/python3.11/site-packages (from aiohttp->torch_geometric>=2.5.0->sevenn) (1.9.4)\n",
      "Requirement already satisfied: MarkupSafe>=2.0 in /home/parkyutack/.local/lib/python3.11/site-packages (from jinja2->torch_geometric>=2.5.0->sevenn) (2.1.5)\n",
      "Requirement already satisfied: charset-normalizer<4,>=2 in /home/parkyutack/.local/lib/python3.11/site-packages (from requests->torch_geometric>=2.5.0->sevenn) (3.3.2)\n",
      "Requirement already satisfied: idna<4,>=2.5 in /usr/lib/python3/dist-packages (from requests->torch_geometric>=2.5.0->sevenn) (2.8)\n",
      "Requirement already satisfied: urllib3<3,>=1.21.1 in /usr/lib/python3/dist-packages (from requests->torch_geometric>=2.5.0->sevenn) (1.25.8)\n",
      "Requirement already satisfied: certifi>=2017.4.17 in /usr/lib/python3/dist-packages (from requests->torch_geometric>=2.5.0->sevenn) (2019.11.28)\n",
      "Requirement already satisfied: mpmath<1.4,>=1.1.0 in /home/parkyutack/.local/lib/python3.11/site-packages (from sympy->e3nn->sevenn) (1.3.0)\n",
      "Requirement already satisfied: six>=1.5 in /usr/lib/python3/dist-packages (from python-dateutil>=2.7->matplotlib>=3.3.4->ase->sevenn) (1.14.0)\n"
     ]
    }
   ],
   "source": [
    "# Install SevenNet\n",
    "!pip install sevenn\n",
    "\n",
    "# If you want to check the SevenNet code, clone the repo.\n",
    "# !git clone https://github.com/MDIL-SNU/SevenNet.git\n",
    "\n",
    "import os\n",
    "working_dir = os.getcwd() # save current path"
   ]
  },
  {
   "cell_type": "code",
   "execution_count": 2,
   "metadata": {
    "colab": {
     "base_uri": "https://localhost:8080/",
     "height": 36
    },
    "id": "T8cO8LjyxDsE",
    "outputId": "dbb1d4d8-401e-4f5f-a8a3-197512ef135e"
   },
   "outputs": [
    {
     "data": {
      "text/plain": [
       "'0.10.1'"
      ]
     },
     "execution_count": 2,
     "metadata": {},
     "output_type": "execute_result"
    }
   ],
   "source": [
    "# check if sevenn is installed well\n",
    "import sevenn\n",
    "sevenn.__version__"
   ]
  },
  {
   "cell_type": "markdown",
   "metadata": {
    "id": "FfgJUwoS9hr3"
   },
   "source": [
    "## 1. Prepare dataset to fine-tune 7net-0"
   ]
  },
  {
   "cell_type": "code",
   "execution_count": 3,
   "metadata": {
    "colab": {
     "base_uri": "https://localhost:8080/"
    },
    "id": "jw4hnsqLVyVw",
    "outputId": "1dd5a4ad-a814-4030-e9b3-256b8f85dbe0"
   },
   "outputs": [],
   "source": [
    "import os.path\n",
    "# If you have this notebook file only, (or using colab) download the dataset\n",
    "# !git clone https://github.com/MDIL-SNU/sevennet_tutorial.git\n",
    "# data_path = 'sevennet_tutorial/data'\n",
    "\n",
    "# If you have downloaded git repository (sevennet_tutorial), set data path\n",
    "data_path = './data'\n",
    "assert os.path.exists(data_path) and os.path.exists(os.path.join(data_path, 'train'))"
   ]
  },
  {
   "cell_type": "code",
   "execution_count": 4,
   "metadata": {
    "colab": {
     "base_uri": "https://localhost:8080/",
     "height": 285
    },
    "id": "O5g9PSOcdhJg",
    "outputId": "f25d7db1-1b2b-4d3a-9caf-c8920f68eaf0"
   },
   "outputs": [
    {
     "name": "stdout",
     "output_type": "stream",
     "text": [
      "AtomGraphSequential(\n",
      "  (edge_embedding): EdgeEmbedding(\n",
      "    (basis_function): BesselBasis()\n",
      "    (cutoff_function): XPLORCutoff()\n",
      "    (spherical): SphericalEncoding(\n",
      "      (sph): SphericalHarmonics()\n",
      "    )\n",
      "  )\n",
      "  (onehot_idx_to_onehot): OnehotEmbedding()\n",
      "  (onehot_to_feature_x): IrrepsLinear(\n",
      "    (linear): Linear(89x0e -> 128x0e | 11392 weights)\n",
      "  )\n",
      "  (0_self_connection_intro): SelfConnectionLinearIntro(\n",
      "    (linear): Linear(128x0e -> 224x0e+64x1e+32x2e | 28672 weights)\n",
      "  )\n",
      "  (0_self_interaction_1): IrrepsLinear(\n",
      "    (linear): Linear(128x0e -> 128x0e | 16384 weights)\n",
      "  )\n",
      "  (0_convolution): IrrepsConvolution(\n",
      "    (convolution): TensorProduct(128x0e x 1x0e+1x1e+1x2e -> 128x0e+128x1e+128x2e | 384 paths | 384 weights)\n",
      "    (weight_nn): FullyConnectedNet[8, 64, 64, 384]\n",
      "  )\n",
      "  (0_self_interaction_2): IrrepsLinear(\n",
      "    (linear): Linear(128x0e+128x1e+128x2e -> 224x0e+64x1e+32x2e | 40960 weights)\n",
      "  )\n",
      "  (0_self_connection_outro): SelfConnectionOutro()\n",
      "  (0_equivariant_gate): EquivariantGate(\n",
      "    (gate): Gate (224x0e+64x1e+32x2e -> 128x0e+64x1e+32x2e)\n",
      "  )\n",
      "  (1_self_connection_intro): SelfConnectionLinearIntro(\n",
      "    (linear): Linear(128x0e+64x1e+32x2e -> 224x0e+64x1e+32x2e | 33792 weights)\n",
      "  )\n",
      "  (1_self_interaction_1): IrrepsLinear(\n",
      "    (linear): Linear(128x0e+64x1e+32x2e -> 128x0e+64x1e+32x2e | 21504 weights)\n",
      "  )\n",
      "  (1_convolution): IrrepsConvolution(\n",
      "    (convolution): TensorProduct(128x0e+64x1e+32x2e x 1x0e+1x1e+1x2e -> 224x0e+384x1e+352x2e | 960 paths | 960 weights)\n",
      "    (weight_nn): FullyConnectedNet[8, 64, 64, 960]\n",
      "  )\n",
      "  (1_self_interaction_2): IrrepsLinear(\n",
      "    (linear): Linear(224x0e+384x1e+352x2e -> 224x0e+64x1e+32x2e | 86016 weights)\n",
      "  )\n",
      "  (1_self_connection_outro): SelfConnectionOutro()\n",
      "  (1_equivariant_gate): EquivariantGate(\n",
      "    (gate): Gate (224x0e+64x1e+32x2e -> 128x0e+64x1e+32x2e)\n",
      "  )\n",
      "  (2_self_connection_intro): SelfConnectionLinearIntro(\n",
      "    (linear): Linear(128x0e+64x1e+32x2e -> 224x0e+64x1e+32x2e | 33792 weights)\n",
      "  )\n",
      "  (2_self_interaction_1): IrrepsLinear(\n",
      "    (linear): Linear(128x0e+64x1e+32x2e -> 128x0e+64x1e+32x2e | 21504 weights)\n",
      "  )\n",
      "  (2_convolution): IrrepsConvolution(\n",
      "    (convolution): TensorProduct(128x0e+64x1e+32x2e x 1x0e+1x1e+1x2e -> 224x0e+384x1e+352x2e | 960 paths | 960 weights)\n",
      "    (weight_nn): FullyConnectedNet[8, 64, 64, 960]\n",
      "  )\n",
      "  (2_self_interaction_2): IrrepsLinear(\n",
      "    (linear): Linear(224x0e+384x1e+352x2e -> 224x0e+64x1e+32x2e | 86016 weights)\n",
      "  )\n",
      "  (2_self_connection_outro): SelfConnectionOutro()\n",
      "  (2_equivariant_gate): EquivariantGate(\n",
      "    (gate): Gate (224x0e+64x1e+32x2e -> 128x0e+64x1e+32x2e)\n",
      "  )\n",
      "  (3_self_connection_intro): SelfConnectionLinearIntro(\n",
      "    (linear): Linear(128x0e+64x1e+32x2e -> 224x0e+64x1e+32x2e | 33792 weights)\n",
      "  )\n",
      "  (3_self_interaction_1): IrrepsLinear(\n",
      "    (linear): Linear(128x0e+64x1e+32x2e -> 128x0e+64x1e+32x2e | 21504 weights)\n",
      "  )\n",
      "  (3_convolution): IrrepsConvolution(\n",
      "    (convolution): TensorProduct(128x0e+64x1e+32x2e x 1x0e+1x1e+1x2e -> 224x0e+384x1e+352x2e | 960 paths | 960 weights)\n",
      "    (weight_nn): FullyConnectedNet[8, 64, 64, 960]\n",
      "  )\n",
      "  (3_self_interaction_2): IrrepsLinear(\n",
      "    (linear): Linear(224x0e+384x1e+352x2e -> 224x0e+64x1e+32x2e | 86016 weights)\n",
      "  )\n",
      "  (3_self_connection_outro): SelfConnectionOutro()\n",
      "  (3_equivariant_gate): EquivariantGate(\n",
      "    (gate): Gate (224x0e+64x1e+32x2e -> 128x0e+64x1e+32x2e)\n",
      "  )\n",
      "  (4_self_connection_intro): SelfConnectionLinearIntro(\n",
      "    (linear): Linear(128x0e+64x1e+32x2e -> 128x0e | 16384 weights)\n",
      "  )\n",
      "  (4_self_interaction_1): IrrepsLinear(\n",
      "    (linear): Linear(128x0e+64x1e+32x2e -> 128x0e+64x1e+32x2e | 21504 weights)\n",
      "  )\n",
      "  (4_convolution): IrrepsConvolution(\n",
      "    (convolution): TensorProduct(128x0e+64x1e+32x2e x 1x0e+1x1e+1x2e -> 224x0e | 224 paths | 224 weights)\n",
      "    (weight_nn): FullyConnectedNet[8, 64, 64, 224]\n",
      "  )\n",
      "  (4_self_interaction_2): IrrepsLinear(\n",
      "    (linear): Linear(224x0e -> 128x0e | 28672 weights)\n",
      "  )\n",
      "  (4_self_connection_outro): SelfConnectionOutro()\n",
      "  (4_equivariant_gate): EquivariantGate(\n",
      "    (gate): Gate (128x0e -> 128x0e)\n",
      "  )\n",
      "  (reduce_input_to_hidden): IrrepsLinear(\n",
      "    (linear): Linear(128x0e -> 64x0e | 8192 weights)\n",
      "  )\n",
      "  (reduce_hidden_to_energy): IrrepsLinear(\n",
      "    (linear): Linear(64x0e -> 1x0e | 64 weights)\n",
      "  )\n",
      "  (rescale_atomic_energy): SpeciesWiseRescale()\n",
      "  (reduce_total_enegy): AtomReduce()\n",
      "  (force_output): ForceStressOutputFromEdge()\n",
      ")\n"
     ]
    }
   ],
   "source": [
    "import sevenn.util as util\n",
    "from sevenn.nn.scale import SpeciesWiseRescale\n",
    "sevennet_0_cp_path = util.pretrained_name_to_path('7net-0')\n",
    "model, config = util.model_from_checkpoint(sevennet_0_cp_path)\n",
    "\n",
    "# To enhance training speed, we will overwrite shift scale module to trainable\n",
    "# By making energy shift trainable, error quickly converges.\n",
    "shift_scale_module = model._modules['rescale_atomic_energy']\n",
    "shift = shift_scale_module.shift.tolist()\n",
    "scale = shift_scale_module.scale.tolist()\n",
    "model._modules['rescale_atomic_energy'] = SpeciesWiseRescale(\n",
    "    shift=shift,\n",
    "    scale=scale,\n",
    "    train_shift_scale=True,\n",
    ")\n",
    "print(model)"
   ]
  },
  {
   "cell_type": "markdown",
   "metadata": {
    "id": "Fj3lpxFE9p3K"
   },
   "source": [
    "### Dataset setting"
   ]
  },
  {
   "cell_type": "code",
   "execution_count": 5,
   "metadata": {
    "id": "T4ZVothJoqHz"
   },
   "outputs": [
    {
     "name": "stdout",
     "output_type": "stream",
     "text": [
      "# graphs: 170\n",
      "# atoms (nodes): {'Cl': 5440, 'Li': 32640, 'P': 5440, 'S': 27200, 'total': 70720}\n",
      "AtomGraphData(\n",
      "  x=[416],\n",
      "  edge_index=[2, 11254],\n",
      "  pos=[416, 3],\n",
      "  node_attr=[416],\n",
      "  atomic_numbers=[416],\n",
      "  edge_vec=[11254, 3],\n",
      "  total_energy=[1],\n",
      "  force_of_atoms=[416, 3],\n",
      "  stress=[1, 6],\n",
      "  cell_lattice_vectors=[3, 3],\n",
      "  pbc_shift=[11254, 3],\n",
      "  cell_volume=[1],\n",
      "  num_atoms=[1],\n",
      "  per_atom_energy=[1],\n",
      "  data_info={}\n",
      ")\n"
     ]
    }
   ],
   "source": [
    "import os\n",
    "from sevenn.train.graph_dataset import SevenNetGraphDataset\n",
    "\n",
    "working_dir = os.getcwd() # change if you want\n",
    "train_dir = os.path.join(data_path, 'train/')\n",
    "xyz_files = ['1200K.extxyz', '600K.extxyz']\n",
    "dataset_files = [os.path.join(train_dir, xyz) for xyz in xyz_files]\n",
    "\n",
    "cutoff = config['cutoff']  # 7net-0 uses 5.0 Angstrom cutoff\n",
    "# Preprocess(build graphs) data before training. It will automatically saves processed graph to {root}/sevenn_data/train.pt, metadata + statistics as train.yaml\n",
    "# If you run below code on more time, it will load saved train.pt automatically instread of rebuilding graph.\n",
    "# If you have changed your data for some reason, put 'force_reload=True' to reload dataset. Or put processed_name other than\n",
    "dataset = SevenNetGraphDataset(cutoff=cutoff, root=working_dir, files=dataset_files, processed_name='train.pt')\n",
    "\n",
    "print(f'# graphs: {len(dataset)}')\n",
    "print(f'# atoms (nodes): {dataset.natoms}')\n",
    "print(dataset[0])"
   ]
  },
  {
   "cell_type": "code",
   "execution_count": 6,
   "metadata": {
    "id": "hT-aqERrbkRD"
   },
   "outputs": [
    {
     "name": "stdout",
     "output_type": "stream",
     "text": [
      "# graphs for training: 42\n",
      "# graphs for validation: 10\n"
     ]
    }
   ],
   "source": [
    "from torch_geometric.loader import DataLoader\n",
    "\n",
    "# split the dataset into train & valid\n",
    "# We will use only 25% of original dataset (from_scratch used 95% of it). For fine-tuning.\n",
    "# Fine-tuning is significantly data efficient than from-scratch!\n",
    "num_dataset = len(dataset)\n",
    "num_train = int(num_dataset * 0.25)\n",
    "num_valid = 10\n",
    "\n",
    "dataset = dataset.shuffle()\n",
    "train_dataset = dataset[:num_train]\n",
    "valid_dataset = dataset[num_train:num_train + 10]\n",
    "\n",
    "print(f'# graphs for training: {len(train_dataset)}')\n",
    "print(f'# graphs for validation: {len(valid_dataset)}')\n",
    "\n",
    "train_loader = DataLoader(train_dataset, batch_size=4, shuffle=True)\n",
    "valid_loader = DataLoader(valid_dataset, batch_size=4)"
   ]
  },
  {
   "cell_type": "markdown",
   "metadata": {
    "id": "rh5tj1Xa9saG"
   },
   "source": [
    "### Model setting"
   ]
  },
  {
   "cell_type": "markdown",
   "metadata": {
    "id": "ifT5HeWZ-nen"
   },
   "source": [
    "### Start training\n",
    "If you want more accurate model, increase the num_epoch!"
   ]
  },
  {
   "cell_type": "code",
   "execution_count": 7,
   "metadata": {
    "id": "WkOvy3XjIpcJ"
   },
   "outputs": [
    {
     "name": "stdout",
     "output_type": "stream",
     "text": [
      "[(Energy, 1.0), (Force, 1.0), (Stress, 0.01)]\n",
      "Adam (\n",
      "Parameter Group 0\n",
      "    amsgrad: False\n",
      "    betas: (0.9, 0.999)\n",
      "    capturable: False\n",
      "    differentiable: False\n",
      "    eps: 1e-08\n",
      "    foreach: None\n",
      "    fused: None\n",
      "    initial_lr: 0.004\n",
      "    lr: 0.004\n",
      "    maximize: False\n",
      "    weight_decay: 0\n",
      ")\n",
      "<torch.optim.lr_scheduler.LinearLR object at 0x7f603c2ec150>\n"
     ]
    }
   ],
   "source": [
    "from sevenn.train.trainer import Trainer\n",
    "import torch.optim.lr_scheduler as scheduler\n",
    "\n",
    "config.update({\n",
    "    'optimizer': 'adam',\n",
    "    'optim_param': {'lr': 0.004},\n",
    "    'scheduler': 'linearlr',\n",
    "    'scheduler_param': {'start_factor': 1.0, 'total_iters': 10, 'end_factor': 0.0001},\n",
    "    'is_ddp': False,  # 7net-0 is traied with ddp=True. We override this key False as we won't use it\n",
    "})\n",
    "trainer = Trainer.from_config(model, config)\n",
    "\n",
    "# We have energy, force, stress loss function, which used to train 7net-0.\n",
    "# We will use it as it is, with loss weight: 1.0, 1.0, and 0.01 for energy, force, and stress, respectively.\n",
    "print(trainer.loss_functions)\n",
    "print(trainer.optimizer)\n",
    "print(trainer.scheduler)"
   ]
  },
  {
   "cell_type": "code",
   "execution_count": 8,
   "metadata": {
    "id": "9rnw9iWJgsKG"
   },
   "outputs": [
    {
     "name": "stdout",
     "output_type": "stream",
     "text": [
      "Energy_RMSE (eV/atom): nan\n",
      "Force_RMSE (eV/Å): nan\n",
      "Stress_RMSE (kbar): nan\n",
      "Energy_MAE (eV/atom): nan\n",
      "Force_MAE (eV/Å): nan\n",
      "Stress_MAE (kbar): nan\n",
      "Energy_Loss: nan\n",
      "Force_Loss: nan\n",
      "Stress_Loss: nan\n",
      "TotalLoss: nan\n"
     ]
    }
   ],
   "source": [
    "from copy import deepcopy\n",
    "from sevenn.error_recorder import ErrorRecorder\n",
    "\n",
    "train_recorder = ErrorRecorder.from_config(config)\n",
    "valid_recorder = deepcopy(train_recorder)\n",
    "for metric in train_recorder.metrics:\n",
    "  print(metric)"
   ]
  },
  {
   "cell_type": "code",
   "execution_count": 9,
   "metadata": {
    "id": "h46t-ibdk3-L"
   },
   "outputs": [
    {
     "name": "stdout",
     "output_type": "stream",
     "text": [
      "SevenNet: Scalable EquVariance-Enabled Neural Network\n",
      "version 0.10.1, Fri Nov  8 11:48:41 2024\n",
      "this file: None\n",
      "reading yaml config...\n",
      "                ****\n",
      "              ********                                   .\n",
      "              *//////,  ..                               .            ,*.\n",
      "               ,,***.         ..                        ,          ********.                                  ./,\n",
      "             .      .                ..   /////.       .,       . */////////                               /////////.\n",
      "        .&@&/        .                  .(((((((..     /           *//////*.  ...                         *((((((((((.\n",
      "     @@@@@@@@@@*    @@@@@@@@@@  @@@@@    *((@@@@@     (     %@@@@@@@@@@  .@@@@@@     ..@@@@.   @@@@@@*    .(@@@@@(((*\n",
      "    @@@@@.          @@@@         @@@@@ .   @@@@@      #     %@@@@         @@@@@@@@     @@@@(,  @@@@@@@@.    @@@@@(*.\n",
      "    %@@@@@@@&       @@@@@@@@@@    @@@@@   @@@@@      #  ., .%@@@@@@@@@    @@@@@@@@@@   @@@@,   @@@@@@@@@@   @@@@@\n",
      "    ,(%@@@@@@@@@    @@@@@@@@@@     @@@@@ @@@@&       (//////%@@@@@@@@@    @@@@  @@@@@@ @@@@  . @@@@@  @@@@@.@@@@@\n",
      "        .   @@@@@   @@@@ .       .  @@@@@@@@%   . . ( .////,%@@@@         @@@@    @@@@@@@@@    @@@@@    @@@@@@@@@\n",
      "    (@@@@@@@@@@@    @@@@@@@@@@**.    @@@@@@*       *.      .%@@@@@@@@@@   @@@@    . @@@@@@@    @@@@@     .@@@@@@@\n",
      "     @@@@@@@@@.     @@@@@@@@@@///,    @@@@.      . /        %@@@@@@@@@@   @@@@***,    @@@@@    @@@@@        @@@@@\n",
      "           .           //////////*.               /           .            .*******...             . ,.\n",
      "          .&&&&&...     ,//////*.       ...////.  /            ,*/.     .   ,////,               .,/////\n",
      "          &@@@@@@                         ,(/((, *           ,((((((.                              .***.\n",
      "           ,/@(,                            ..   *            ,((((*\n",
      "                                                ,\n",
      "                                               .\n",
      "------------------------------------------------------------------------------------------------------------------------\n",
      "Epoch 0/10  Learning rate: 0.00360004\n",
      "       Energy_RMSE (eV/atom)   Force_RMSE (eV/Å)   Stress_RMSE (kbar)   Energy_MAE (eV/atom)   Force_MAE (eV/Å)   Stress_MAE (kbar)   Energy_Loss   Force_Loss   Stress_Loss   TotalLoss  \n",
      "------------------------------------------------------------------------------------------------------------------------------------------------------------------------------------------\n",
      "Train               0.084126            0.271940            18.312194               0.068509           0.110238            4.643363      0.000619     0.001062      0.046883    0.002150\n",
      "Valid               0.018575            0.244326             7.181983               0.018000           0.102555            1.894301      0.000124     0.000998      0.017321    0.001295\n",
      "Epoch 0 elapsed: 0:00:23.09\n",
      "------------------------------------------------------------------------------------------------------------------------\n",
      "Epoch 1/10  Learning rate: 0.00320008\n",
      "       Energy_RMSE (eV/atom)   Force_RMSE (eV/Å)   Stress_RMSE (kbar)   Energy_MAE (eV/atom)   Force_MAE (eV/Å)   Stress_MAE (kbar)   Energy_Loss   Force_Loss   Stress_Loss   TotalLoss  \n",
      "------------------------------------------------------------------------------------------------------------------------------------------------------------------------------------------\n",
      "Train               0.019558            0.199256             7.221985               0.018113           0.083773            1.918268      0.000135     0.000786      0.019616    0.001117\n",
      "Valid               0.017504            0.165716             8.439119               0.017427           0.070142            2.445351      0.000127     0.000676      0.025477    0.001058\n",
      "Epoch 1 elapsed: 0:00:16.63\n",
      "------------------------------------------------------------------------------------------------------------------------\n",
      "Epoch 2/10  Learning rate: 0.00280012\n",
      "       Energy_RMSE (eV/atom)   Force_RMSE (eV/Å)   Stress_RMSE (kbar)   Energy_MAE (eV/atom)   Force_MAE (eV/Å)   Stress_MAE (kbar)   Energy_Loss   Force_Loss   Stress_Loss   TotalLoss  \n",
      "------------------------------------------------------------------------------------------------------------------------------------------------------------------------------------------\n",
      "Train               0.011048            0.158610             5.373504               0.009664           0.067079            1.377648      0.000053     0.000621      0.013568    0.000809\n",
      "Valid               0.005196            0.143998             3.674493               0.005001           0.060621            1.082646      0.000012     0.000578      0.010205    0.000692\n",
      "Epoch 2 elapsed: 0:00:16.23\n",
      "------------------------------------------------------------------------------------------------------------------------\n",
      "Epoch 3/10  Learning rate: 0.00240016\n",
      "       Energy_RMSE (eV/atom)   Force_RMSE (eV/Å)   Stress_RMSE (kbar)   Energy_MAE (eV/atom)   Force_MAE (eV/Å)   Stress_MAE (kbar)   Energy_Loss   Force_Loss   Stress_Loss   TotalLoss  \n",
      "------------------------------------------------------------------------------------------------------------------------------------------------------------------------------------------\n",
      "Train               0.003772            0.140308             4.459734               0.002933           0.058916            1.234743      0.000007     0.000540      0.012297    0.000670\n",
      "Valid               0.001779            0.138177             4.850538               0.001589           0.057877            1.472685      0.000001     0.000551      0.015284    0.000705\n",
      "Epoch 3 elapsed: 0:00:16.22\n",
      "------------------------------------------------------------------------------------------------------------------------\n",
      "Epoch 4/10  Learning rate: 0.0020002\n",
      "       Energy_RMSE (eV/atom)   Force_RMSE (eV/Å)   Stress_RMSE (kbar)   Energy_MAE (eV/atom)   Force_MAE (eV/Å)   Stress_MAE (kbar)   Energy_Loss   Force_Loss   Stress_Loss   TotalLoss  \n",
      "------------------------------------------------------------------------------------------------------------------------------------------------------------------------------------------\n",
      "Train               0.001238            0.127636             2.762506               0.000934           0.053099            0.736119      0.000001     0.000483      0.007110    0.000555\n",
      "Valid               0.002248            0.123427             1.748085               0.002044           0.051498            0.556112      0.000002     0.000487      0.005703    0.000546\n",
      "Epoch 4 elapsed: 0:00:16.22\n",
      "------------------------------------------------------------------------------------------------------------------------\n",
      "Epoch 5/10  Learning rate: 0.00160024\n",
      "       Energy_RMSE (eV/atom)   Force_RMSE (eV/Å)   Stress_RMSE (kbar)   Energy_MAE (eV/atom)   Force_MAE (eV/Å)   Stress_MAE (kbar)   Energy_Loss   Force_Loss   Stress_Loss   TotalLoss  \n",
      "------------------------------------------------------------------------------------------------------------------------------------------------------------------------------------------\n",
      "Train               0.001818            0.118904             1.403656               0.001501           0.049127            0.414369      0.000002     0.000444      0.004094    0.000487\n",
      "Valid               0.000876            0.115712             0.784369               0.000713           0.048112            0.227448      0.000000     0.000452      0.002298    0.000476\n",
      "Epoch 5 elapsed: 0:00:16.20\n",
      "------------------------------------------------------------------------------------------------------------------------\n",
      "Epoch 6/10  Learning rate: 0.00120028\n",
      "       Energy_RMSE (eV/atom)   Force_RMSE (eV/Å)   Stress_RMSE (kbar)   Energy_MAE (eV/atom)   Force_MAE (eV/Å)   Stress_MAE (kbar)   Energy_Loss   Force_Loss   Stress_Loss   TotalLoss  \n",
      "------------------------------------------------------------------------------------------------------------------------------------------------------------------------------------------\n",
      "Train               0.001090            0.113368             0.902098               0.000904           0.046570            0.264690      0.000001     0.000424      0.002646    0.000451\n",
      "Valid               0.001717            0.110880             0.552345               0.001459           0.046122            0.168236      0.000001     0.000431      0.001836    0.000451\n",
      "Epoch 6 elapsed: 0:00:16.52\n",
      "------------------------------------------------------------------------------------------------------------------------\n",
      "Epoch 7/10  Learning rate: 0.0008003200000000001\n",
      "       Energy_RMSE (eV/atom)   Force_RMSE (eV/Å)   Stress_RMSE (kbar)   Energy_MAE (eV/atom)   Force_MAE (eV/Å)   Stress_MAE (kbar)   Energy_Loss   Force_Loss   Stress_Loss   TotalLoss  \n",
      "------------------------------------------------------------------------------------------------------------------------------------------------------------------------------------------\n",
      "Train               0.001438            0.110059             0.810049               0.001202           0.044994            0.240531      0.000001     0.000399      0.002360    0.000423\n",
      "Valid               0.001016            0.108783             0.586925               0.000757           0.045086            0.185371      0.000001     0.000420      0.001931    0.000440\n",
      "Epoch 7 elapsed: 0:00:16.45\n",
      "------------------------------------------------------------------------------------------------------------------------\n",
      "Epoch 8/10  Learning rate: 0.00040036000000000005\n",
      "       Energy_RMSE (eV/atom)   Force_RMSE (eV/Å)   Stress_RMSE (kbar)   Energy_MAE (eV/atom)   Force_MAE (eV/Å)   Stress_MAE (kbar)   Energy_Loss   Force_Loss   Stress_Loss   TotalLoss  \n",
      "------------------------------------------------------------------------------------------------------------------------------------------------------------------------------------------\n",
      "Train               0.001022            0.107978             0.806733               0.000856           0.043993            0.238998      0.000001     0.000393      0.002304    0.000417\n",
      "Valid               0.001007            0.106979             1.297741               0.000886           0.044277            0.415371      0.000000     0.000412      0.004065    0.000453\n",
      "Epoch 8 elapsed: 0:00:16.26\n",
      "------------------------------------------------------------------------------------------------------------------------\n",
      "Epoch 9/10  Learning rate: 3.999999999998766e-07\n",
      "       Energy_RMSE (eV/atom)   Force_RMSE (eV/Å)   Stress_RMSE (kbar)   Energy_MAE (eV/atom)   Force_MAE (eV/Å)   Stress_MAE (kbar)   Energy_Loss   Force_Loss   Stress_Loss   TotalLoss  \n",
      "------------------------------------------------------------------------------------------------------------------------------------------------------------------------------------------\n",
      "Train               0.000987            0.106622             0.927412               0.000777           0.043389            0.273936      0.000000     0.000388      0.002696    0.000416\n",
      "Valid               0.001072            0.105978             0.673436               0.000962           0.043765            0.223493      0.000001     0.000407      0.002336    0.000431\n",
      "Epoch 9 elapsed: 0:00:16.22\n"
     ]
    }
   ],
   "source": [
    "from sevenn.sevenn_logger import Logger\n",
    "\n",
    "valid_best = float('inf')\n",
    "total_epoch = 10\n",
    "\n",
    "logger = Logger()\n",
    "logger.screen = True\n",
    "\n",
    "# As error recorder is long, let's use sevennet_logger for pretty print\n",
    "# It is similar to outputs when using sevennet with terminal.\n",
    "with logger:\n",
    "    logger.greeting()  # prints ascii logo\n",
    "    for epoch in range(1, total_epoch + 1):  # ~ 16 sec/epoch with RTX4060\n",
    "        logger.timer_start('epoch')\n",
    "        logger.writeline(f'Epoch {epoch}/{total_epoch}  Learning rate: {trainer.get_lr():.6f}')\n",
    "        # trainer scans whole data from given loader, and updates error recorder with outputs.\n",
    "        trainer.run_one_epoch(train_loader, is_train=True, error_recorder=train_recorder)\n",
    "        trainer.run_one_epoch(valid_loader, is_train=False, error_recorder=valid_recorder)\n",
    "        trainer.scheduler_step()\n",
    "        train_err = train_recorder.epoch_forward()  # return averaged error over one epoch, then reset.\n",
    "        valid_err = valid_recorder.epoch_forward()\n",
    "        logger.bar()\n",
    "        logger.write_full_table([train_err, valid_err], ['Train', 'Valid'])\n",
    "        logger.timer_end('epoch', message=f'Epoch {epoch} elapsed')\n",
    "\n",
    "trainer.write_checkpoint(os.path.join(working_dir, 'checkpoint_fine_tuned.pth'), config=config, epoch=total_epoch)"
   ]
  },
  {
   "cell_type": "markdown",
   "metadata": {
    "id": "ALRki_ilVsT3"
   },
   "source": [
    "## 3. Model test\n",
    "### Energy / force plot\n",
    "Let's predict the energy and force of training/test dataset and draw the parity plots"
   ]
  },
  {
   "cell_type": "code",
   "execution_count": null,
   "metadata": {
    "id": "CzOHD9ym9z8u"
   },
   "outputs": [],
   "source": [
    "# load test model\n",
    "import os\n",
    "working_dir = './'\n",
    "\n",
    "# If you have this notebook file only, (or using colab) download the dataset\n",
    "# !git clone https://github.com/MDIL-SNU/sevennet_tutorial.git\n",
    "# data_path = 'sevennet_tutorial/data'\n",
    "\n",
    "# If you have downloaded git repository (sevennet_tutorial), set data path\n",
    "data_path = './data'\n",
    "assert os.path.exists(data_path) and os.path.exists(os.path.join(data_path, 'evaluation'))\n",
    "\n",
    "import torch\n",
    "import ase.io\n",
    "\n",
    "from sevenn.sevennet_calculator import SevenNetCalculator\n",
    "\n",
    "# Let's test our model by predicting DFT MD trajectory\n",
    "# Instead of using other functions in SevenNet, we will use ASE calculator as an interface of our model\n",
    "DFT_md_xyz = os.path.join(data_path + 'evaluation/test_md.extxyz')\n",
    "\n",
    "# initialize calculator from checkpoint.\n",
    "fine_tuned_calc = SevenNetCalculator(os.path.join(working_dir, 'checkpoint_fine_tuned.pth'))\n",
    "sevennet_0_calc = SevenNetCalculator('7net-0')  # As a baseline\n",
    "\n",
    "# load DFT md trajectory\n",
    "traj = ase.io.read(DFT_md_xyz, index=':')"
   ]
  },
  {
   "cell_type": "code",
   "execution_count": null,
   "metadata": {
    "id": "3DVBcr_441lk"
   },
   "outputs": [],
   "source": [
    "import numpy as np\n",
    "from tqdm import tqdm\n",
    "\n",
    "dft_energy, dft_forces, dft_stress = [], [], []\n",
    "ft_energy, ft_forces, ft_stress = [], [], []\n",
    "base_energy, base_forces, base_stress = [], [], []\n",
    "to_kBar = 1602.1766208\n",
    "\n",
    "for atoms in tqdm(traj):\n",
    "  atoms.calc = fine_tuned_calc\n",
    "  ft_energy.append(atoms.get_potential_energy() / len(atoms))  # as per atom energy\n",
    "  ft_forces.append(atoms.get_forces())\n",
    "  ft_stress.extend(-1 * atoms.get_stress() * to_kBar)  # eV/Angstrom^3 to kBar unit\n",
    "\n",
    "  atoms.calc = sevennet_0_calc\n",
    "  base_energy.append(atoms.get_potential_energy() / len(atoms))  # as per atom energy\n",
    "  base_forces.append(atoms.get_forces())\n",
    "  base_stress.extend(-1 * atoms.get_stress() * to_kBar)\n",
    "\n",
    "  dft_energy.append(atoms.info['DFT_energy'] / len(atoms))\n",
    "  dft_forces.append(atoms.arrays['DFT_forces'])\n",
    "  dft_stress.append(-1 * atoms.info['DFT_stress'] * to_kBar)\n"
   ]
  },
  {
   "cell_type": "code",
   "execution_count": null,
   "metadata": {
    "id": "Q5ddwJPM6I4y"
   },
   "outputs": [],
   "source": [
    "# flatten forces and stress for parity plot\n",
    "ft_forces = np.concatenate([f.reshape(-1,) for f in ft_forces])\n",
    "ft_stress = np.concatenate([s.reshape(-1,) for s in ft_stress])\n",
    "\n",
    "base_forces = np.concatenate([f.reshape(-1,) for f in base_forces])\n",
    "base_stress = np.concatenate([s.reshape(-1,) for s in base_stress])\n",
    "\n",
    "dft_forces = np.concatenate([f.reshape(-1,) for f in dft_forces])\n",
    "dft_stress = np.concatenate([s.reshape(-1,) for s in dft_stress])"
   ]
  },
  {
   "cell_type": "code",
   "execution_count": null,
   "metadata": {
    "id": "k4tl3pp2VpE4"
   },
   "outputs": [],
   "source": [
    "import matplotlib.pyplot as plt\n",
    "from scipy.stats import gaussian_kde\n",
    "\n",
    "# draw a parity plot of energy / force / stress\n",
    "unit = {\"energy\": \"eV/atom\", \"force\": r\"eV/$\\rm{\\AA}$\", \"stress\": \"kbar\"}\n",
    "def density_colored_scatter_plot(dft_energy, nnp_energy, dft_force, nnp_force, dft_stress, nnp_stress, title=None):\n",
    "    modes = ['energy', 'force', 'stress']\n",
    "    plt.figure(figsize=(18/2.54, 6/2.54))\n",
    "    for num, (x, y) in enumerate(zip([dft_energy, dft_force, dft_stress], [nnp_energy, nnp_force, nnp_stress])):\n",
    "        mode = modes[num]\n",
    "        idx = np.random.choice(len(x), 1000) if len(x) > 1000 else list(range(len(x)))\n",
    "        xsam = [x[i] for i in idx]\n",
    "        ysam = [y[i] for i in idx]\n",
    "        xy = np.vstack([x, y])\n",
    "        xysam = np.vstack([xsam, ysam])\n",
    "        zsam = gaussian_kde(xysam)\n",
    "\n",
    "        z = zsam.pdf(xy)\n",
    "        idx = z.argsort()\n",
    "\n",
    "        x = [x[i] for i in idx]\n",
    "        y = [y[i] for i in idx]\n",
    "        z = [z[i] for i in idx]\n",
    "\n",
    "        ax = plt.subplot(int(f'13{num+1}'))\n",
    "        plt.scatter(x, y, c=z, s=4, cmap='plasma')\n",
    "\n",
    "        mini = min(min(x), min(y))\n",
    "        maxi = max(max(x), max(y))\n",
    "        ran = (maxi-mini) / 20\n",
    "        plt.plot([mini-ran, maxi+ran], [mini-ran, maxi+ran], color='grey', linestyle='dashed')\n",
    "        plt.xlim(mini-ran, maxi+ran)\n",
    "        plt.ylim(mini-ran, maxi+ran)\n",
    "\n",
    "        plt.xlabel(f'DFT {mode} ({unit[mode]})')\n",
    "        plt.ylabel(f'MLP {mode} ({unit[mode]})')\n",
    "        ax.set_aspect('equal')\n",
    "        if title:\n",
    "          ax.set_title(f'{title} {mode}')\n",
    "    plt.tight_layout()\n",
    "    plt.show()\n",
    "\n",
    "density_colored_scatter_plot(dft_energy, base_energy, dft_forces, base_forces, dft_stress, base_stress, '7net-0')\n",
    "density_colored_scatter_plot(dft_energy, ft_energy, dft_forces, ft_forces, dft_stress, ft_stress, 'fine-tuned')"
   ]
  }
 ],
 "metadata": {
  "accelerator": "GPU",
  "colab": {
   "gpuType": "T4",
   "provenance": []
  },
  "kernelspec": {
   "display_name": "Python 3 (ipykernel)",
   "language": "python",
   "name": "python3"
  },
  "language_info": {
   "codemirror_mode": {
    "name": "ipython",
    "version": 3
   },
   "file_extension": ".py",
   "mimetype": "text/x-python",
   "name": "python",
   "nbconvert_exporter": "python",
   "pygments_lexer": "ipython3",
   "version": "3.11.9"
  }
 },
 "nbformat": 4,
 "nbformat_minor": 4
}
